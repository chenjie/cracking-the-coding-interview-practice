{
 "cells": [
  {
   "cell_type": "code",
   "execution_count": 1,
   "metadata": {},
   "outputs": [],
   "source": [
    "import setup\n",
    "from ctci_utils import LinkedListNode"
   ]
  },
  {
   "cell_type": "markdown",
   "metadata": {},
   "source": [
    "## Example Input"
   ]
  },
  {
   "cell_type": "code",
   "execution_count": 2,
   "metadata": {},
   "outputs": [],
   "source": [
    "l1_head = LinkedListNode(6).add_to_front(LinkedListNode(1)).add_to_front(LinkedListNode(7))"
   ]
  },
  {
   "cell_type": "code",
   "execution_count": 3,
   "metadata": {},
   "outputs": [],
   "source": [
    "l2_head = LinkedListNode(2).add_to_front(LinkedListNode(9)).add_to_front(LinkedListNode(5))"
   ]
  },
  {
   "cell_type": "code",
   "execution_count": 4,
   "metadata": {},
   "outputs": [
    {
     "name": "stdout",
     "output_type": "stream",
     "text": [
      "7 -> 1 -> 6 -> None\n",
      "5 -> 9 -> 2 -> None\n"
     ]
    }
   ],
   "source": [
    "l1_head.print_forward()\n",
    "l2_head.print_forward()"
   ]
  },
  {
   "cell_type": "markdown",
   "metadata": {},
   "source": [
    "## Example Solution"
   ]
  },
  {
   "cell_type": "code",
   "execution_count": 5,
   "metadata": {},
   "outputs": [],
   "source": [
    "def sum_lists(l1, l2, carry):\n",
    "    # l1 and l2 are both LinkedListNodes (head)\n",
    "    # carry is either 1 or 0\n",
    "    if (l1 is None) and (l2 is None) and (carry == 0):\n",
    "        return None\n",
    "    val = carry\n",
    "    \n",
    "    if l1 is not None:\n",
    "        val += l1.val\n",
    "    if l2 is not None:\n",
    "        val += l2.val\n",
    "    result_head = LinkedListNode(val % 10)\n",
    "    \n",
    "    after = sum_lists(l1 if l1 is None else l1.next,\n",
    "                     l2 if l2 is None else l2.next,\n",
    "                     1 if val >= 10 else 0)\n",
    "    result_head.next = after\n",
    "    \n",
    "    return result_head"
   ]
  },
  {
   "cell_type": "code",
   "execution_count": 6,
   "metadata": {},
   "outputs": [
    {
     "name": "stdout",
     "output_type": "stream",
     "text": [
      "2 -> 1 -> 9 -> None\n"
     ]
    }
   ],
   "source": [
    "result = sum_lists(l1_head, l2_head, 0)\n",
    "result.print_forward()"
   ]
  },
  {
   "cell_type": "markdown",
   "metadata": {},
   "source": [
    "## Fun Question (just come into my mind)\n",
    "### How do you print a linkedlist in reverse order? Recursion!"
   ]
  },
  {
   "cell_type": "code",
   "execution_count": 7,
   "metadata": {},
   "outputs": [
    {
     "name": "stdout",
     "output_type": "stream",
     "text": [
      "9\n",
      "1\n",
      "2\n"
     ]
    }
   ],
   "source": [
    "result.print_backward()"
   ]
  },
  {
   "cell_type": "markdown",
   "metadata": {},
   "source": [
    "## Follow Up: What if stored in forward order?"
   ]
  },
  {
   "cell_type": "code",
   "execution_count": 8,
   "metadata": {},
   "outputs": [
    {
     "name": "stdout",
     "output_type": "stream",
     "text": [
      "6 -> 1 -> 7 -> None\n",
      "2 -> 9 -> 5 -> None\n"
     ]
    }
   ],
   "source": [
    "l1_head = LinkedListNode(7).add_to_front(LinkedListNode(1)).add_to_front(LinkedListNode(6))\n",
    "l2_head = LinkedListNode(5).add_to_front(LinkedListNode(9)).add_to_front(LinkedListNode(2))\n",
    "l1_head.print_forward()\n",
    "l2_head.print_forward()"
   ]
  },
  {
   "cell_type": "markdown",
   "metadata": {},
   "source": [
    "## Follow Up Sol"
   ]
  },
  {
   "cell_type": "code",
   "execution_count": 9,
   "metadata": {},
   "outputs": [],
   "source": [
    "def sum_lists_forward(l1, l2):\n",
    "    # Assume they have the same lengths\n",
    "    if l1 is None and l2 is None:\n",
    "        return None, 0\n",
    "    res, carry = sum_lists_forward(l1.next, l2.next)\n",
    "    val = carry + l1.val + l2.val\n",
    "    if res is None:\n",
    "        ret = LinkedListNode(val % 10)\n",
    "    else:\n",
    "        ret = res.add_to_front(LinkedListNode(val % 10))\n",
    "    return ret, val // 10"
   ]
  },
  {
   "cell_type": "code",
   "execution_count": 10,
   "metadata": {},
   "outputs": [
    {
     "name": "stdout",
     "output_type": "stream",
     "text": [
      "9 -> 1 -> 2 -> None\n"
     ]
    }
   ],
   "source": [
    "sum_lists_forward(l1_head, l2_head)[0].print_forward()"
   ]
  }
 ],
 "metadata": {
  "kernelspec": {
   "display_name": "Python 3",
   "language": "python",
   "name": "python3"
  },
  "language_info": {
   "codemirror_mode": {
    "name": "ipython",
    "version": 3
   },
   "file_extension": ".py",
   "mimetype": "text/x-python",
   "name": "python",
   "nbconvert_exporter": "python",
   "pygments_lexer": "ipython3",
   "version": "3.7.3"
  }
 },
 "nbformat": 4,
 "nbformat_minor": 2
}
