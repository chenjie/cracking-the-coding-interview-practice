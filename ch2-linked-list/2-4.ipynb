{
 "cells": [
  {
   "cell_type": "code",
   "execution_count": 1,
   "metadata": {},
   "outputs": [],
   "source": [
    "import setup\n",
    "from ctci_utils import LinkedListNode"
   ]
  },
  {
   "cell_type": "markdown",
   "metadata": {},
   "source": [
    "## Example Input"
   ]
  },
  {
   "cell_type": "code",
   "execution_count": 24,
   "metadata": {},
   "outputs": [
    {
     "name": "stdout",
     "output_type": "stream",
     "text": [
      "3 -> 5 -> 8 -> 5 -> 10 -> 2 -> 1 -> None\n"
     ]
    }
   ],
   "source": [
    "ll = LinkedListNode(1).add_to_front(LinkedListNode(2)).add_to_front(\n",
    "    LinkedListNode(10)).add_to_front(LinkedListNode(5)).add_to_front(\n",
    "    LinkedListNode(8)).add_to_front(LinkedListNode(5)).add_to_front(\n",
    "    LinkedListNode(3))\n",
    "ll.print_forward()"
   ]
  },
  {
   "cell_type": "code",
   "execution_count": 28,
   "metadata": {},
   "outputs": [
    {
     "name": "stdout",
     "output_type": "stream",
     "text": [
      "7 -> 5 -> 8 -> 3 -> 1 -> 2 -> 1 -> None\n"
     ]
    }
   ],
   "source": [
    "ll2 = LinkedListNode(1).add_to_front(LinkedListNode(2)).add_to_front(\n",
    "    LinkedListNode(1)).add_to_front(LinkedListNode(3)).add_to_front(\n",
    "    LinkedListNode(8)).add_to_front(LinkedListNode(5)).add_to_front(\n",
    "    LinkedListNode(7))\n",
    "ll2.print_forward()"
   ]
  },
  {
   "cell_type": "markdown",
   "metadata": {},
   "source": [
    "## Example Solution (Two pointers)"
   ]
  },
  {
   "cell_type": "code",
   "execution_count": 29,
   "metadata": {},
   "outputs": [],
   "source": [
    "def partition(node, num):\n",
    "    back = node\n",
    "    while back.next is not None:\n",
    "        if back.val < num:\n",
    "            back = back.next\n",
    "        else:\n",
    "            if back.next.val >= num:\n",
    "                back = back.next\n",
    "            else:\n",
    "                tmp = back.next\n",
    "                back.next = tmp.next\n",
    "                node = node.add_to_front(tmp)\n",
    "    return node"
   ]
  },
  {
   "cell_type": "code",
   "execution_count": 30,
   "metadata": {},
   "outputs": [
    {
     "name": "stdout",
     "output_type": "stream",
     "text": [
      "3 -> 5 -> 8 -> 5 -> 10 -> None\n"
     ]
    }
   ],
   "source": [
    "result = partition(ll, 5)\n",
    "result.print_forward()"
   ]
  },
  {
   "cell_type": "code",
   "execution_count": 31,
   "metadata": {},
   "outputs": [
    {
     "name": "stdout",
     "output_type": "stream",
     "text": [
      "1 -> 2 -> 1 -> 3 -> 7 -> 5 -> 8 -> None\n"
     ]
    }
   ],
   "source": [
    "result2 = partition(ll2, 5)\n",
    "result2.print_forward()"
   ]
  }
 ],
 "metadata": {
  "kernelspec": {
   "display_name": "Python 3",
   "language": "python",
   "name": "python3"
  },
  "language_info": {
   "codemirror_mode": {
    "name": "ipython",
    "version": 3
   },
   "file_extension": ".py",
   "mimetype": "text/x-python",
   "name": "python",
   "nbconvert_exporter": "python",
   "pygments_lexer": "ipython3",
   "version": "3.7.3"
  }
 },
 "nbformat": 4,
 "nbformat_minor": 2
}
