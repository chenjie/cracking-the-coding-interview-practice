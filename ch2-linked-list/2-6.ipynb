{
 "cells": [
  {
   "cell_type": "code",
   "execution_count": 1,
   "metadata": {},
   "outputs": [],
   "source": [
    "import setup\n",
    "import math\n",
    "from ctci_utils import Stack, LinkedListNode"
   ]
  },
  {
   "cell_type": "markdown",
   "metadata": {},
   "source": [
    "## Example Input"
   ]
  },
  {
   "cell_type": "code",
   "execution_count": 2,
   "metadata": {},
   "outputs": [
    {
     "name": "stdout",
     "output_type": "stream",
     "text": [
      "0 -> 1 -> 2 -> 1 -> 0 -> None\n"
     ]
    }
   ],
   "source": [
    "ll = LinkedListNode(0).add_to_front(LinkedListNode(1)).add_to_front(\n",
    "    LinkedListNode(2)).add_to_front(LinkedListNode(1)).add_to_front(LinkedListNode(0))\n",
    "ll.print_forward()"
   ]
  },
  {
   "cell_type": "code",
   "execution_count": 12,
   "metadata": {},
   "outputs": [
    {
     "name": "stdout",
     "output_type": "stream",
     "text": [
      "0 -> 1 -> 2 -> 2 -> 1 -> 0 -> None\n"
     ]
    }
   ],
   "source": [
    "ll_even = LinkedListNode(0).add_to_front(LinkedListNode(1)).add_to_front(\n",
    "    LinkedListNode(2)).add_to_front(LinkedListNode(2)).add_to_front(LinkedListNode(1)).add_to_front(LinkedListNode(0))\n",
    "ll_even.print_forward()"
   ]
  },
  {
   "cell_type": "code",
   "execution_count": 13,
   "metadata": {},
   "outputs": [
    {
     "name": "stdout",
     "output_type": "stream",
     "text": [
      "0 -> 1 -> 5 -> 2 -> 1 -> 0 -> None\n"
     ]
    }
   ],
   "source": [
    "ll_not = LinkedListNode(0).add_to_front(LinkedListNode(1)).add_to_front(\n",
    "    LinkedListNode(2)).add_to_front(LinkedListNode(5)).add_to_front(LinkedListNode(1)).add_to_front(LinkedListNode(0))\n",
    "ll_not.print_forward()"
   ]
  },
  {
   "cell_type": "markdown",
   "metadata": {},
   "source": [
    "## Example Solution (Stack implementation)"
   ]
  },
  {
   "cell_type": "code",
   "execution_count": 10,
   "metadata": {},
   "outputs": [],
   "source": [
    "def insert_half_ll2stack(ll):\n",
    "    s = Stack()\n",
    "    ll_len = ll.length()\n",
    "    insert_num = math.ceil(ll_len / 2)\n",
    "    cur = ll\n",
    "    for _ in range(insert_num):\n",
    "        s.push(cur.val)\n",
    "        cur = cur.next\n",
    "        \n",
    "    found = False\n",
    "    while cur is not None:\n",
    "        if s.pop() != cur.val:\n",
    "            if found:\n",
    "                return False\n",
    "            else:\n",
    "                found = True\n",
    "        else:\n",
    "            cur = cur.next\n",
    "    \n",
    "    return True"
   ]
  },
  {
   "cell_type": "code",
   "execution_count": 11,
   "metadata": {},
   "outputs": [
    {
     "data": {
      "text/plain": [
       "True"
      ]
     },
     "execution_count": 11,
     "metadata": {},
     "output_type": "execute_result"
    }
   ],
   "source": [
    "insert_half_ll2stack(ll)"
   ]
  },
  {
   "cell_type": "code",
   "execution_count": 14,
   "metadata": {},
   "outputs": [
    {
     "data": {
      "text/plain": [
       "True"
      ]
     },
     "execution_count": 14,
     "metadata": {},
     "output_type": "execute_result"
    }
   ],
   "source": [
    "insert_half_ll2stack(ll_even)"
   ]
  },
  {
   "cell_type": "code",
   "execution_count": 15,
   "metadata": {},
   "outputs": [
    {
     "data": {
      "text/plain": [
       "False"
      ]
     },
     "execution_count": 15,
     "metadata": {},
     "output_type": "execute_result"
    }
   ],
   "source": [
    "insert_half_ll2stack(ll_not)"
   ]
  },
  {
   "cell_type": "markdown",
   "metadata": {},
   "source": [
    "## Example Solution (Recursive implementation)"
   ]
  },
  {
   "cell_type": "code",
   "execution_count": 16,
   "metadata": {},
   "outputs": [],
   "source": [
    "def is_palindrome(ll):\n",
    "    length = ll.length()\n",
    "    head, res = is_palindrome_rec(ll, length)\n",
    "    return res\n",
    "\n",
    "def is_palindrome_rec(ll, length):\n",
    "    head = ll\n",
    "    ret = ll\n",
    "    for i in range(length):\n",
    "        ret = ret.next\n",
    "\n",
    "    if length in [0, 1]:\n",
    "        return ret, True\n",
    "    \n",
    "    after_head, res = is_palindrome_rec(ll.next, length-2)\n",
    "    if not res:\n",
    "        return ret, False\n",
    "    elif head.val != after_head.val:\n",
    "        return ret, False\n",
    "    else:\n",
    "        return ret, True"
   ]
  },
  {
   "cell_type": "code",
   "execution_count": 17,
   "metadata": {},
   "outputs": [
    {
     "data": {
      "text/plain": [
       "True"
      ]
     },
     "execution_count": 17,
     "metadata": {},
     "output_type": "execute_result"
    }
   ],
   "source": [
    "is_palindrome(ll)"
   ]
  },
  {
   "cell_type": "code",
   "execution_count": 18,
   "metadata": {},
   "outputs": [
    {
     "data": {
      "text/plain": [
       "True"
      ]
     },
     "execution_count": 18,
     "metadata": {},
     "output_type": "execute_result"
    }
   ],
   "source": [
    "is_palindrome(ll_even)"
   ]
  },
  {
   "cell_type": "code",
   "execution_count": 19,
   "metadata": {},
   "outputs": [
    {
     "data": {
      "text/plain": [
       "False"
      ]
     },
     "execution_count": 19,
     "metadata": {},
     "output_type": "execute_result"
    }
   ],
   "source": [
    "is_palindrome(ll_not)"
   ]
  }
 ],
 "metadata": {
  "kernelspec": {
   "display_name": "Python 3",
   "language": "python",
   "name": "python3"
  },
  "language_info": {
   "codemirror_mode": {
    "name": "ipython",
    "version": 3
   },
   "file_extension": ".py",
   "mimetype": "text/x-python",
   "name": "python",
   "nbconvert_exporter": "python",
   "pygments_lexer": "ipython3",
   "version": "3.7.3"
  }
 },
 "nbformat": 4,
 "nbformat_minor": 2
}
